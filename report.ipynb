{
 "cells": [
  {
   "cell_type": "markdown",
   "metadata": {},
   "source": [
    "# Final Project Report"
   ]
  },
  {
   "cell_type": "markdown",
   "metadata": {
    "pycharm": {
     "name": "#%% md\n"
    }
   },
   "source": [
    "## Introduction\n",
    "Seattle in recent years has become known for its booming economy and ever-growing tech industry with\n",
    "giants such as Amazon and Microsoft investing more into the city. However, there is much more to\n",
    "Seattle than just its tech scene. Boeing being native to Seattle has made the city known for its\n",
    "aircraft manufacturing and Starbucks has continued to push Seattle’s reputation as a coffee city.\n",
    "This made me realize that in a city as big as Seattle, there’s a lot of economic growth that has\n",
    "not been recognized as much due to a variety of reasons. My goal in this project is to analyze\n",
    "Seattle’s economic growth in different sectors to get a better understanding of the city and\n",
    "its various industries."
   ]
  },
  {
   "cell_type": "markdown",
   "metadata": {},
   "source": [
    "## Background and Related Work\n",
    "\n",
    "According to [Wikipedia], Seattle's economy is mostly composed of a mix of new tech and old\n",
    "industrial companies, such as Amazon, Microsoft, Boeing, and Paccar. In recent years, there has\n",
    "been a growing movement to bring in more biotech companies to contribute to the economy of Seattle.\n",
    "When taking a look at the [top paying job industries in Seattle], Science and Technology come in\n",
    "first, followed by Business & Professional Services, and Healthcare. However, there is not much\n",
    "research or reporting on other sectors of the economy aside from the big name ones that are\n",
    "supporting Seattle's economic boom.\n",
    "\n",
    "[Wikipedia]: https://en.wikipedia.org/wiki/Seattle#Economy\n",
    "[top paying job industries in Seattle]: https://www.northeastern.edu/graduate/blog/highest-paying-jobs-seattle/"
   ]
  },
  {
   "cell_type": "markdown",
   "metadata": {},
   "source": [
    "## Research Question\n",
    "How has Seattle's economy in different sectors changed over time as a result of the growing technology sector in recent years?\n",
    "\n",
    "To answer this question, I will also look at a few sub questions:\n",
    "\n",
    "- How has Seattle's technology sector grown in recent years?\n",
    "- How has the top 5 - 10 sectors changed in recent years?\n",
    "- How are changes in sectors similar or different depending on the region of Seattle?\n",
    "\n",
    "My prediction is that with the increase in the tech sector, the number of jobs in other sectors will\n",
    "decline due to more people leaving their current jobs in other sectors to join the tech sector."
   ]
  },
  {
   "cell_type": "markdown",
   "metadata": {},
   "source": [
    "## Datasets\n",
    "To conduct this analysis in the project, I will be using a few datasets from the city of Seattle\n",
    "related to Business License Data in the years [2012], [2015], and [2021]. Each dataset contains\n",
    "information about business name, ownership type, trade name, and location within the city. The\n",
    "dataset also contains a column called NAICS (North American Industry Classification System) Code\n",
    "and Description which enables me to get aggregates about jobs in each industry sector. This would\n",
    "help me analyze how different jobs have grown in Seattle over time and compare the growth of\n",
    "different jobs against one another. I will also use [Seattle Zipcode data] to be able to plot the\n",
    " job growth (or decline) in areas around the city.\n",
    "\n",
    "[2012]: https://data.seattle.gov/Finance/2012-Business-License-Data-Updated-June-2013-/qmtq-5rpt\n",
    "[2015]: https://data.seattle.gov/Finance/2015-Active-Business-License-Data/hzyd-nfci\n",
    "[2021]: https://data.seattle.gov/City-Business/Active-Business-License-Tax-Certificate/wnbq-64tb\n",
    "[Seattle Zipcode data]: https://data-seattlecitygis.opendata.arcgis.com/datasets/SeattleCityGIS::zip-codes/about"
   ]
  },
  {
   "cell_type": "markdown",
   "metadata": {},
   "source": [
    "## Methodology\n",
    "\n",
    "To answer this question, I first loaded in the Business License datasets for 2012, 2015, and 2021.\n",
    "Since the datasets are a number of years apart from each other, they contain slight differences in\n",
    "how they are structured. Some headers were changed to match one another in order to make\n",
    "comparison and analysis easy. The first step in analyzing the dataset was first filtering by tech\n",
    "NAICS (North American Index Classification System) numbers. The tech NAICS were used to get a count\n",
    "of the number of businesses registered in each year and then compared against each other to see\n",
    "the growth (or decline) from year to year. Afterwards, the same approach was used to compare the\n",
    "growth (or decline) in the top 10 business NAICS groupings over time. While the top 10 business\n",
    "NAICS groupings differed from year to year, only analysis was done on the same NAICS groupings\n",
    "that appeared in all 3 years. Below is a table of the NAICS groupings used:\n",
    "\n",
    "| NAICS Grouping | NAICS Code |\n",
    "| -------------- | ---------- |\n",
    "| Tech           | 518210, 541511, 519310, 511210 |\n",
    "| Construction   | 236115     |\n",
    "| Taxi           | 485310     |\n",
    "| Lawyer         | 541110     |\n",
    "| Admin          | 541611     |\n",
    "| Health         | 621399     |\n",
    "| Other          | 812990     |\n",
    "\n",
    "Afterwards, I moved to analyzing the growth (or decline) of the NAICS groupings per zip code in\n",
    "Seattle. Zip codes was chosen because it gave a consistent way to be able to determine business\n",
    "registrations in a small geographical area of the city. The first step in doing so was cleaning\n",
    "the datasets to have a consistent zip code format that matched with that in the Seattle Zipcode\n",
    "dataset. Once that was done, the number of businesses per NAICS grouping was then plotted on a\n",
    "map of Seattle between all 3 years to see the trends over time.\n",
    "\n",
    "The code and a more detailed walk-through of how I conducted this analysis can be found in\n",
    "[main.ipynb](main.ipynb)."
   ]
  },
  {
   "cell_type": "markdown",
   "source": [
    "## Findings\n",
    "\n",
    "The analysis first showed the growth of the tech sector in Seattle. From 2012 to 2015, there\n",
    "was a 333.92% increase in the number of tech businesses in the city. However, there was a decrease\n",
    "in the number of businesses from 2015 to 2021. The analysis also showed that each other NAICS\n",
    "grouping followed the same trends: increasing from 2012 to 2015 and decreasing from 2015 to 2021.\n",
    "\n",
    "| NAICS Grouping | NAICS Code | 2012 &rarr; 2015 Change | 2015 &rarr; 2021 Change |\n",
    "| -------------- | ---------- | ----------------------- | ----------------------- |\n",
    "| Tech           | 518210, 541511, 519310, 511210 | +333.92% | -6.72%             |\n",
    "| Construction   | 236115     | +91.43                  | -17.30%                 |\n",
    "| Taxi           | 485310     | +237.15%                | -64.71%                 |\n",
    "| Lawyer         | 541110     | +78.83%                 | -19.04%                 |\n",
    "| Admin          | 541611     | +194.69%                | -19.87%                 |\n",
    "| Health         | 621399     | +101.24%                | -30.137%                |\n",
    "| Other          | 812990     | +34.04%                 | -39.16%                 |\n",
    "\n",
    "As a baseline, here is the changes in the number of businesses for the tech sector:\n",
    "\n",
    "![Tech Changes](/figures/tech_businesses.png)\n",
    "\n",
    "The same trends were also seen when counting the changes in the number of businesses for other\n",
    "sectors:\n",
    "\n",
    "![Business Changes](/figures/top_business_changes_comparison.png)\n",
    "\n",
    "When looking at the geographical data, it was notable that the increase in the tech sector occurred\n",
    "in North and Central Seattle where everywhere else saw little to no changes in the number of tech\n",
    "businesses. The same could be seen for the NAICS groupings of Construction, Lawyer, Admin, Health,\n",
    "and Other. The only NAICS grouping that differed was the Taxi grouping. Instead, the Taxi grouping\n",
    "had a reverse change. There was a decrease in the number of businesses in North and Central Seattle\n",
    "but an increase everywhere else.\n",
    "\n",
    "![Tech Geo](/figures/tech_businesses_per_zipcode.png)\n",
    "\n",
    "![Admin Geo](/figures/admin_businesses_per_zipcode.png)\n",
    "\n",
    "![Taxi Geo](/figures/taxi_businesses_per_zipcode.png)"
   ],
   "metadata": {
    "collapsed": false
   }
  },
  {
   "cell_type": "markdown",
   "source": [
    "## Discussion\n",
    "\n",
    "The results differed from what I predicted would happen: usually when the number of businesses in one\n",
    "sector increases, the number of businesses in other sectors decrease in order to compensate. However,\n",
    "when the tech sector increased, so did every other NAICS business grouping. This leads me to believe\n",
    "that the tech sector did not draw workers away from other businesses but rather brought in more\n",
    "people that were not originally in Seattle. As a result, the other businesses grew as they had to\n",
    "support the increase in the number of people that now have jobs in Seattle.\n",
    "\n",
    "What was more interesting was looking at the geographical breakdown of the changes in the number of\n",
    "businesses across the city. Predominately, most of the increases occurred in North and Central\n",
    "Seattle as opposed to anywhere else in the city. I cannot confidently say as to why this is without\n",
    "additional investigation, but my speculation in it lays in the fact that North and Central Seattle\n",
    "is generally more affluent than other parts of the city. More businesses (and people) tend to grow\n",
    "in more affluent parts for a number of different reasons, but this is only based on my lived\n",
    "experiences as a resident of Seattle.\n",
    "\n",
    "It should be noted that each business grouping saw a decrease from 2015 to 2021. While I am unsure\n",
    "as to exactly why this decreased happened, I suspect it was due to the\n",
    "[COVID-19 pandemic](https://en.wikipedia.org/wiki/COVID-19_pandemic) which forced a number of\n",
    "businesses to close in order to prevent the spread of the virus. However, I can't say that this is\n",
    "the only reason or if there were other factors without additional investigation.\n",
    "\n",
    "It's also noted that there is huge gap between each of the available business datasets (3 years\n",
    "from 2012 to 2015 and 6 years from 2015 to 2021). There might have been more of a nuanced change in\n",
    "the number of businesses in the in-between years but only having 3 datasets over a big spread of\n",
    "years gives more of a trend."
   ],
   "metadata": {
    "collapsed": false
   }
  },
  {
   "cell_type": "markdown",
   "source": [
    "## Conclusion\n",
    "\n",
    "This investigation shed some light into how the tech sector has changed Seattle's economy over time.\n",
    "While it has been known that Seattle is becoming more and more of a tech-hub due to a number of\n",
    "companies investing in the city, it is not exactly a bad thing as thought previously. Usually when\n",
    "a sector booms in a city, other sectors decrease to compensate. However, Seattle's tech boom has\n",
    "overall had no negative impacts among the other sectors in the city. Other sectors continue to grow\n",
    "with the tech sector. This is interesting to keep in mind as Seattle continues to grow and as other\n",
    "sectors rise in the city over time."
   ],
   "metadata": {
    "collapsed": false,
    "pycharm": {
     "name": "#%% md\n"
    }
   }
  }
 ],
 "metadata": {
  "kernelspec": {
   "display_name": "Python 3 (ipykernel)",
   "language": "python",
   "name": "python3"
  },
  "language_info": {
   "codemirror_mode": {
    "name": "ipython",
    "version": 3
   },
   "file_extension": ".py",
   "mimetype": "text/x-python",
   "name": "python",
   "nbconvert_exporter": "python",
   "pygments_lexer": "ipython3",
   "version": "3.8.3"
  }
 },
 "nbformat": 4,
 "nbformat_minor": 1
}