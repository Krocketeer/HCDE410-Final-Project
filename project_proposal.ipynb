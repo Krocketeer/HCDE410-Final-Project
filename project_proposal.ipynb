{
 "cells": [
  {
   "cell_type": "markdown",
   "metadata": {
    "collapsed": true,
    "pycharm": {
     "name": "#%% md\n"
    }
   },
   "source": [
    "# Final Project Preliminary Proposal"
   ]
  },
  {
   "cell_type": "markdown",
   "source": [
    "## Motivation and Problem Statement\n",
    "Seattle in recent years has become known for its booming economy and ever growing tech industry with\n",
    "giants such as Amazon and Microsoft investing more into the city. However, there is much more to\n",
    "Seattle than just its tech scene. Boeing being native to Seattle has made the city known for its\n",
    "aircraft manufacturing and Starbucks has continued to push Seattle’s reputation as a coffee city.\n",
    "This made me realize that in a city as big as Seattle, there’s a lot of economic growth that has\n",
    "not been recognized as much due to a variety of reasons. My goal in this project is to analyze\n",
    "Seattle’s economic growth in different sectors to get a better understanding of the city and\n",
    "its various industries."
   ],
   "metadata": {
    "collapsed": false
   }
  },
  {
   "cell_type": "markdown",
   "source": [
    "## Research Question\n",
    "How has Seattle's economy in different sectors changed over time as a result of the growing technology sector in recent years?\n",
    "\n",
    "To answer this question, I will also look at a few sub questions:\n",
    "\n",
    "- How has Seattle's technology sector grown in recent years?\n",
    "- How has the top 5 - 10 sectors changed in recent years?\n",
    "- How are changes in sectors similar or different depending on the region of Seattle?"
   ],
   "metadata": {
    "collapsed": false
   }
  },
  {
   "cell_type": "markdown",
   "source": [
    "## Background and Related Work\n",
    "According to [Wikipedia], Seattle's economy is mostly composed of a mix of new tech and old\n",
    "industrial companies, such as Amazon, Microsoft, Boeing, and Paccar. In recent years, there has\n",
    "been a growing movement to bring in more biotech companies to contribute to the economy of Seattle.\n",
    "When taking a look at the [top paying job industries in Seattle], Science and Technology come in\n",
    "first, followed by Business & Professional Services, and Healthcare. However, there is not much\n",
    "research or reporting on other sectors of the economy aside from the big name ones that are\n",
    "supporting Seattle's economic boom.\n",
    "\n",
    "[Wikipedia]: https://en.wikipedia.org/wiki/Seattle#Economy\n",
    "[top paying job industries in Seattle]: https://www.northeastern.edu/graduate/blog/highest-paying-jobs-seattle/\n"
   ],
   "metadata": {
    "collapsed": false
   }
  },
  {
   "cell_type": "markdown",
   "source": [
    "## Datasets\n",
    "To conduct this analysis in the project, I will be using a few datasets from the city of Seattle\n",
    "related to Business License Data in the years [2012], [2015], and [2021]. Each dataset contains\n",
    "information about business name, ownership type, trade name, and location within the city. The\n",
    "dataset also contains a column called NAICS (North American Industry Classification System) Code\n",
    "and Description which enables me to get aggregates about jobs in each industry sector. This would\n",
    "help me analyze how different jobs have grown in Seattle over time and compare the growth of\n",
    "different jobs against one another. I will also use [Seattle Zipcode data] to be able to plot the\n",
    " job growth (or decline) in areas around the city.\n",
    "\n",
    "[2012]: https://data.seattle.gov/Finance/2012-Business-License-Data-Updated-June-2013-/qmtq-5rpt\n",
    "[2015]: https://data.seattle.gov/Finance/2015-Active-Business-License-Data/hzyd-nfci\n",
    "[2021]: https://data.seattle.gov/City-Business/Active-Business-License-Tax-Certificate/wnbq-64tb\n",
    "[Seattle Zipcode data]: https://data-seattlecitygis.opendata.arcgis.com/datasets/SeattleCityGIS::zip-codes/about"
   ],
   "metadata": {
    "collapsed": false
   }
  },
  {
   "cell_type": "markdown",
   "source": [
    "## Methodology\n",
    "To answer this research question, I will first analyze the growth of the technology sector over time\n",
    "from 2012 to 2021. This will give me a baseline to be able to compare the growth (or decline of\n",
    "other industries). I will then aggregate the top 5 - 10 sectors in Seattle (since using all of them\n",
    "would be difficult to analyze) and to compare to the growth of the technology sector. I will also\n",
    "split this growth by zipcodes to see how the top 5 - 10 sectors have changed over time since different\n",
    "areas of Seattle are more dominant in different job sectors. All of this will give a bigger picture\n",
    "to how the technology industry has affected other job sectors from 2012 to 2021."
   ],
   "metadata": {
    "collapsed": false
   }
  },
  {
   "cell_type": "markdown",
   "source": [
    "## Unknown and Dependencies\n",
    "The only thing that I can foresee becoming an issue for the completion of this project is my\n",
    "capstone project that is also running at the same time. My capstone team and I currently only have\n",
    "four weeks left to finish up our project which includes ideation, design, prototyping, and creating\n",
    "final presentations for everything. Four weeks is not a lot of time to do any of that so my\n",
    "availability to do anything else for the rest of the quarter will become severely limited.\n"
   ],
   "metadata": {
    "collapsed": false
   }
  },
  {
   "cell_type": "markdown",
   "source": [
    "## Acknowledgements\n",
    "Shout out to those at my table during class who helped me scope my preliminary project proposal. At\n",
    "first I wanted to work with gerrymandering data but I was having a hard time coming up what to\n",
    "investigate with that data. I talked about my general interests and my tablemates pointed me\n",
    "towards looking into city data instead of specifically gerrymandering data and I eventually came\n",
    " to my current proposal."
   ],
   "metadata": {
    "collapsed": false,
    "pycharm": {
     "name": "#%% md\n"
    }
   }
  }
 ],
 "metadata": {
  "kernelspec": {
   "display_name": "Python 3",
   "language": "python",
   "name": "python3"
  },
  "language_info": {
   "codemirror_mode": {
    "name": "ipython",
    "version": 2
   },
   "file_extension": ".py",
   "mimetype": "text/x-python",
   "name": "python",
   "nbconvert_exporter": "python",
   "pygments_lexer": "ipython2",
   "version": "2.7.6"
  }
 },
 "nbformat": 4,
 "nbformat_minor": 0
}