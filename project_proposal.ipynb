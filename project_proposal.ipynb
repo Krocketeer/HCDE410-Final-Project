{
 "cells": [
  {
   "cell_type": "markdown",
   "metadata": {
    "collapsed": true,
    "pycharm": {
     "name": "#%% md\n"
    }
   },
   "source": [
    "# Final Project Preliminary Proposal"
   ]
  },
  {
   "cell_type": "markdown",
   "source": [
    "## Motivation and Problem Statement\n",
    "Seattle in recent years has become known for its booming economy and ever growing tech industry with giants such as Amazon and Microsoft investing more into the city. However, there is much more to Seattle than just its tech scene. Boeing being native to Seattle has made the city known for its aircraft manufacturing and Starbucks has continued to push Seattle’s reputation as a coffee city. This made me realize that in a city as big as Seattle, there’s a lot of economic growth that has not been recognized as much due to a variety of reasons. My goal in this project is to analyze Seattle’s economic growth in different sectors to get a better understanding of the city and its various industries."
   ],
   "metadata": {
    "collapsed": false
   }
  },
  {
   "cell_type": "markdown",
   "source": [
    "## Datasets\n",
    "To conduct this analysis in the project, I will be using a few datasets from the city of Seattle related to Business License Data in the years [2012], [2015], and [2021]. Each dataset contains information about business name, ownership type, trade name, and location within the city. The dataset also contains a column called NAICS (North American Industry Classification System) Code and Description which enables me to get aggregates about jobs in each industry sector. This would help me analyze how different jobs have grown in Seattle over time and compare the growth of different jobs against one another.\n",
    "\n",
    "[2012]: https://data.seattle.gov/Finance/2012-Business-License-Data-Updated-June-2013-/qmtq-5rpt\n",
    "[2015]: https://data.seattle.gov/Finance/2015-Active-Business-License-Data/hzyd-nfci\n",
    "[2021]: https://data.seattle.gov/City-Business/Active-Business-License-Tax-Certificate/wnbq-64tb"
   ],
   "metadata": {
    "collapsed": false
   }
  },
  {
   "cell_type": "markdown",
   "source": [
    "## Unknown and Dependencies\n",
    "The only thing that I can foresee becoming an issue for the completion of this project is my capstone project that is also running at the same time. My capstone team and I currently only have four weeks left to finish up our project which includes ideation, design, prototyping, and creating final presentations for everything. Four weeks is not a lot of time to do any of that so my availability to do anything else for the rest of the quarter will become severely limited.\n"
   ],
   "metadata": {
    "collapsed": false
   }
  },
  {
   "cell_type": "markdown",
   "source": [
    "## Acknowledgements\n",
    "Shout out to those at my table during class who helped me scope my preliminary project proposal. At\n",
    "first I wanted to work with gerrymandering data but I was having a hard time coming up what to\n",
    "investigate with that data. I talked about my general interests and my tablemates pointed me towards\n",
    "looking into city data instead of specifically gerrymandering data and I eventually came to my\n",
    "current proposal."
   ],
   "metadata": {
    "collapsed": false
   }
  }
 ],
 "metadata": {
  "kernelspec": {
   "display_name": "Python 3",
   "language": "python",
   "name": "python3"
  },
  "language_info": {
   "codemirror_mode": {
    "name": "ipython",
    "version": 2
   },
   "file_extension": ".py",
   "mimetype": "text/x-python",
   "name": "python",
   "nbconvert_exporter": "python",
   "pygments_lexer": "ipython2",
   "version": "2.7.6"
  }
 },
 "nbformat": 4,
 "nbformat_minor": 0
}