{
 "cells": [
  {
   "cell_type": "code",
   "execution_count": 1,
   "metadata": {
    "collapsed": true
   },
   "outputs": [
    {
     "name": "stdout",
     "output_type": "stream",
     "text": [
      "Requirement already satisfied: pandas in ./venv/lib/python3.8/site-packages (1.4.2)\r\n",
      "Requirement already satisfied: pytz>=2020.1 in ./venv/lib/python3.8/site-packages (from pandas) (2022.1)\r\n",
      "Requirement already satisfied: python-dateutil>=2.8.1 in ./venv/lib/python3.8/site-packages (from pandas) (2.8.2)\r\n",
      "Requirement already satisfied: numpy>=1.18.5 in ./venv/lib/python3.8/site-packages (from pandas) (1.22.3)\r\n",
      "Requirement already satisfied: six>=1.5 in ./venv/lib/python3.8/site-packages (from python-dateutil>=2.8.1->pandas) (1.16.0)\r\n",
      "\u001B[33mWARNING: You are using pip version 22.0.4; however, version 22.1 is available.\r\n",
      "You should consider upgrading via the '/Users/kennyle/Desktop/Computer Science/HCDE/HCDE 410/FinalProject/venv/bin/python -m pip install --upgrade pip' command.\u001B[0m\u001B[33m\r\n",
      "\u001B[0mRequirement already satisfied: geopandas in ./venv/lib/python3.8/site-packages (0.10.2)\r\n",
      "Requirement already satisfied: pyproj>=2.2.0 in ./venv/lib/python3.8/site-packages (from geopandas) (3.3.1)\r\n",
      "Requirement already satisfied: shapely>=1.6 in ./venv/lib/python3.8/site-packages (from geopandas) (1.8.2)\r\n",
      "Requirement already satisfied: pandas>=0.25.0 in ./venv/lib/python3.8/site-packages (from geopandas) (1.4.2)\r\n",
      "Requirement already satisfied: fiona>=1.8 in ./venv/lib/python3.8/site-packages (from geopandas) (1.8.21)\r\n",
      "Requirement already satisfied: click>=4.0 in ./venv/lib/python3.8/site-packages (from fiona>=1.8->geopandas) (8.1.3)\r\n",
      "Requirement already satisfied: cligj>=0.5 in ./venv/lib/python3.8/site-packages (from fiona>=1.8->geopandas) (0.7.2)\r\n",
      "Requirement already satisfied: certifi in ./venv/lib/python3.8/site-packages (from fiona>=1.8->geopandas) (2022.5.18)\r\n",
      "Requirement already satisfied: click-plugins>=1.0 in ./venv/lib/python3.8/site-packages (from fiona>=1.8->geopandas) (1.1.1)\r\n",
      "Requirement already satisfied: munch in ./venv/lib/python3.8/site-packages (from fiona>=1.8->geopandas) (2.5.0)\r\n",
      "Requirement already satisfied: six>=1.7 in ./venv/lib/python3.8/site-packages (from fiona>=1.8->geopandas) (1.16.0)\r\n",
      "Requirement already satisfied: attrs>=17 in ./venv/lib/python3.8/site-packages (from fiona>=1.8->geopandas) (21.4.0)\r\n",
      "Requirement already satisfied: setuptools in ./venv/lib/python3.8/site-packages (from fiona>=1.8->geopandas) (62.0.0)\r\n",
      "Requirement already satisfied: python-dateutil>=2.8.1 in ./venv/lib/python3.8/site-packages (from pandas>=0.25.0->geopandas) (2.8.2)\r\n",
      "Requirement already satisfied: pytz>=2020.1 in ./venv/lib/python3.8/site-packages (from pandas>=0.25.0->geopandas) (2022.1)\r\n",
      "Requirement already satisfied: numpy>=1.18.5 in ./venv/lib/python3.8/site-packages (from pandas>=0.25.0->geopandas) (1.22.3)\r\n",
      "\u001B[33mWARNING: You are using pip version 22.0.4; however, version 22.1 is available.\r\n",
      "You should consider upgrading via the '/Users/kennyle/Desktop/Computer Science/HCDE/HCDE 410/FinalProject/venv/bin/python -m pip install --upgrade pip' command.\u001B[0m\u001B[33m\r\n",
      "\u001B[0mRequirement already satisfied: matplotlib in ./venv/lib/python3.8/site-packages (3.5.2)\r\n",
      "Requirement already satisfied: fonttools>=4.22.0 in ./venv/lib/python3.8/site-packages (from matplotlib) (4.33.3)\r\n",
      "Requirement already satisfied: python-dateutil>=2.7 in ./venv/lib/python3.8/site-packages (from matplotlib) (2.8.2)\r\n",
      "Requirement already satisfied: cycler>=0.10 in ./venv/lib/python3.8/site-packages (from matplotlib) (0.11.0)\r\n",
      "Requirement already satisfied: numpy>=1.17 in ./venv/lib/python3.8/site-packages (from matplotlib) (1.22.3)\r\n",
      "Requirement already satisfied: kiwisolver>=1.0.1 in ./venv/lib/python3.8/site-packages (from matplotlib) (1.4.2)\r\n",
      "Requirement already satisfied: packaging>=20.0 in ./venv/lib/python3.8/site-packages (from matplotlib) (21.3)\r\n",
      "Requirement already satisfied: pyparsing>=2.2.1 in ./venv/lib/python3.8/site-packages (from matplotlib) (3.0.8)\r\n",
      "Requirement already satisfied: pillow>=6.2.0 in ./venv/lib/python3.8/site-packages (from matplotlib) (9.1.1)\r\n",
      "Requirement already satisfied: six>=1.5 in ./venv/lib/python3.8/site-packages (from python-dateutil>=2.7->matplotlib) (1.16.0)\r\n",
      "\u001B[33mWARNING: You are using pip version 22.0.4; however, version 22.1 is available.\r\n",
      "You should consider upgrading via the '/Users/kennyle/Desktop/Computer Science/HCDE/HCDE 410/FinalProject/venv/bin/python -m pip install --upgrade pip' command.\u001B[0m\u001B[33m\r\n",
      "\u001B[0mRequirement already satisfied: seaborn in ./venv/lib/python3.8/site-packages (0.11.2)\r\n",
      "Requirement already satisfied: matplotlib>=2.2 in ./venv/lib/python3.8/site-packages (from seaborn) (3.5.2)\r\n",
      "Requirement already satisfied: scipy>=1.0 in ./venv/lib/python3.8/site-packages (from seaborn) (1.8.1)\r\n",
      "Requirement already satisfied: pandas>=0.23 in ./venv/lib/python3.8/site-packages (from seaborn) (1.4.2)\r\n",
      "Requirement already satisfied: numpy>=1.15 in ./venv/lib/python3.8/site-packages (from seaborn) (1.22.3)\r\n",
      "Requirement already satisfied: fonttools>=4.22.0 in ./venv/lib/python3.8/site-packages (from matplotlib>=2.2->seaborn) (4.33.3)\r\n",
      "Requirement already satisfied: cycler>=0.10 in ./venv/lib/python3.8/site-packages (from matplotlib>=2.2->seaborn) (0.11.0)\r\n",
      "Requirement already satisfied: python-dateutil>=2.7 in ./venv/lib/python3.8/site-packages (from matplotlib>=2.2->seaborn) (2.8.2)\r\n",
      "Requirement already satisfied: pyparsing>=2.2.1 in ./venv/lib/python3.8/site-packages (from matplotlib>=2.2->seaborn) (3.0.8)\r\n",
      "Requirement already satisfied: packaging>=20.0 in ./venv/lib/python3.8/site-packages (from matplotlib>=2.2->seaborn) (21.3)\r\n",
      "Requirement already satisfied: kiwisolver>=1.0.1 in ./venv/lib/python3.8/site-packages (from matplotlib>=2.2->seaborn) (1.4.2)\r\n",
      "Requirement already satisfied: pillow>=6.2.0 in ./venv/lib/python3.8/site-packages (from matplotlib>=2.2->seaborn) (9.1.1)\r\n",
      "Requirement already satisfied: pytz>=2020.1 in ./venv/lib/python3.8/site-packages (from pandas>=0.23->seaborn) (2022.1)\r\n",
      "Requirement already satisfied: six>=1.5 in ./venv/lib/python3.8/site-packages (from python-dateutil>=2.7->matplotlib>=2.2->seaborn) (1.16.0)\r\n",
      "\u001B[33mWARNING: You are using pip version 22.0.4; however, version 22.1 is available.\r\n",
      "You should consider upgrading via the '/Users/kennyle/Desktop/Computer Science/HCDE/HCDE 410/FinalProject/venv/bin/python -m pip install --upgrade pip' command.\u001B[0m\u001B[33m\r\n",
      "\u001B[0mRequirement already satisfied: numpy in ./venv/lib/python3.8/site-packages (1.22.3)\r\n",
      "\u001B[33mWARNING: You are using pip version 22.0.4; however, version 22.1 is available.\r\n",
      "You should consider upgrading via the '/Users/kennyle/Desktop/Computer Science/HCDE/HCDE 410/FinalProject/venv/bin/python -m pip install --upgrade pip' command.\u001B[0m\u001B[33m\r\n",
      "\u001B[0mRequirement already satisfied: tabulate in ./venv/lib/python3.8/site-packages (0.8.9)\r\n",
      "\u001B[33mWARNING: You are using pip version 22.0.4; however, version 22.1 is available.\r\n",
      "You should consider upgrading via the '/Users/kennyle/Desktop/Computer Science/HCDE/HCDE 410/FinalProject/venv/bin/python -m pip install --upgrade pip' command.\u001B[0m\u001B[33m\r\n",
      "\u001B[0m"
     ]
    }
   ],
   "source": [
    "# Install various packages\n",
    "!pip install pandas\n",
    "!pip install geopandas\n",
    "!pip install matplotlib\n",
    "!pip install seaborn\n",
    "!pip install numpy\n",
    "!pip install tabulate"
   ]
  },
  {
   "cell_type": "code",
   "execution_count": 2,
   "outputs": [],
   "source": [
    "# Import packages\n",
    "import pandas as pd\n",
    "import geopandas as gpd\n",
    "import numpy as np\n",
    "from tabulate import tabulate\n",
    "import seaborn as sns\n",
    "import matplotlib.pyplot as plt\n",
    "from matplotlib.pyplot import figure"
   ],
   "metadata": {
    "collapsed": false,
    "pycharm": {
     "name": "#%%\n"
    }
   }
  },
  {
   "cell_type": "code",
   "execution_count": 3,
   "outputs": [],
   "source": [
    "def read_clean(csv):\n",
    "    \"\"\"\n",
    "    Takes a CSV and returns a Pandas Dataframe of it without any missing values\n",
    "    :param csv: A Comma Seperated Value file\n",
    "    :return: a Pandas Dataframe\n",
    "    \"\"\"\n",
    "    data = pd.read_csv(csv)\n",
    "    data = data.replace('', np.nan, regex=True)\n",
    "    return data.dropna()"
   ],
   "metadata": {
    "collapsed": false,
    "pycharm": {
     "name": "#%%\n"
    }
   }
  },
  {
   "cell_type": "code",
   "execution_count": 4,
   "outputs": [],
   "source": [
    "def add_year(dataframe, year):\n",
    "    df = dataframe.copy()\n",
    "    df.loc[:, 'year'] = year\n",
    "    return df.reset_index(drop=True, inplace=True)"
   ],
   "metadata": {
    "collapsed": false,
    "pycharm": {
     "name": "#%%\n"
    }
   }
  },
  {
   "cell_type": "code",
   "execution_count": 80,
   "outputs": [
    {
     "name": "stderr",
     "output_type": "stream",
     "text": [
      "/var/folders/r2/jq0wysbs7pb0wn4ydzsf_wzm0000gn/T/ipykernel_97908/1045404771.py:7: DtypeWarning: Columns (7) have mixed types. Specify dtype option on import or set low_memory=False.\n",
      "  data = pd.read_csv(csv)\n"
     ]
    },
    {
     "name": "stdout",
     "output_type": "stream",
     "text": [
      "2012 License Data: \n",
      "       business_id  business_legal_name                        Ownership    trade_name                          naics_code  NACISDesc                                                     sic_code_id  SIC Description                                           lic_start_date          city_state_zip          year\n",
      "--  -------------  -----------------------------------------  -----------  --------------------------------  ------------  ----------------------------------------------------------  -------------  --------------------------------------------------------  ----------------------  --------------------  ------\n",
      " 0              5  UNION PACIFIC RAILROAD COMPANY             Corporation  UNION PACIFIC RAILROAD COMPANY          482111  Line-Haul Railroads                                                   575  Railroads, Line-Haul Operating                            07/04/2043 12:00:00 AM  SEATTLE, WA   98108     2012\n",
      " 1             13  CORE MARK INTL INC                         Corporation  CORE-MARK INTL INC                      424490  Other Grocery and Related Products Merchant Wholesalers               693  Groceries and Related Products, Not Elsewhere Classified  07/04/2043 12:00:00 AM  LAKEWOOD, WA   98499    2012\n",
      " 2             14  NATL ASSN OF CREDIT MANAGEMENT WESTERN WA  Corporation  NACM WESTERN WASHINGTON & ALASKA        561440  Collection Agencies                                                   850  Adjustment and Collection Services                        07/04/2043 12:00:00 AM  SEATTLE, WA   98121     2012\n",
      " 3             19  WILBUR ELLIS CO                            Corporation  WILBUR-ELLIS CO                         424910  Farm Supplies Merchant Wholesalers                                    703  Farm Supplies                                             01/01/2000 12:00:00 AM  AUBURN, WA   98001      2012\n",
      " 4             21  SAFEWAY INC                                Corporation  SAFEWAY INC                             445110  Supermarkets and Other Grocery (except Convenience) Stores            717  Grocery Stores                                            07/04/2043 12:00:00 AM  BELLEVUE, WA   98005    2012\n",
      " 5             21  SAFEWAY INC                                Corporation  SAFEWAY INC #1477                       445110  Supermarkets and Other Grocery (except Convenience) Stores            717  Grocery Stores                                            09/05/2000 12:00:00 AM  SEATTLE, WA   98107     2012\n",
      " 6             21  SAFEWAY INC                                Corporation  SAFEWAY STORE #1062                     445110  Supermarkets and Other Grocery (except Convenience) Stores            717  Grocery Stores                                            01/01/1987 12:00:00 AM  SEATTLE, WA   98116     2012\n",
      " 7             21  SAFEWAY INC                                Corporation  SAFEWAY STORE #1143                     445110  Supermarkets and Other Grocery (except Convenience) Stores            717  Grocery Stores                                            01/01/1995 12:00:00 AM  SEATTLE, WA   98117     2012\n",
      " 8             21  SAFEWAY INC                                Corporation  SAFEWAY STORE #1508                     445110  Supermarkets and Other Grocery (except Convenience) Stores            717  Grocery Stores                                            01/01/1995 12:00:00 AM  SEATTLE, WA   98118     2012\n",
      " 9             21  SAFEWAY INC                                Corporation  SAFEWAY STORE #1550                     445110  Supermarkets and Other Grocery (except Convenience) Stores            717  Grocery Stores                                            05/20/1998 12:00:00 AM  SEATTLE, WA   98115     2012\n",
      "\n",
      "2015 License Data: \n",
      "     Business Legal Name                        Ownership Type    Trade Name                          NAICS Code  NAICS Description                                           License Start Date    City, State, ZIP      year\n",
      "--  -----------------------------------------  ----------------  --------------------------------  ------------  ----------------------------------------------------------  --------------------  ------------------  ------\n",
      " 0  UNION PACIFIC RAILROAD COMPANY             Corporation       UNION PACIFIC RAILROAD COMPANY          482111  Line-Haul Railroads                                         04-Jul-43             SEATTLE, WA 98108     2015\n",
      " 1  CORE MARK INTL INC                         Corporation       CORE-MARK INTL INC                      424490  Other Grocery and Related Products Merchant Wholesalers     04-Jul-43             LAKEWOOD, WA 98499    2015\n",
      " 2  NATL ASSN OF CREDIT MANAGEMENT WESTERN WA  Corporation       NACM WESTERN WASHINGTON & ALASKA        561440  Collection Agencies                                         04-Jul-43             SEATTLE, WA 98134     2015\n",
      " 3  WILBUR ELLIS CO                            Corporation       WILBUR-ELLIS CO                         424910  Farm Supplies Merchant Wholesalers                          01-Jan-00             AUBURN, WA 98001      2015\n",
      " 4  WILBUR ELLIS CO                            Corporation       WILBUR-ELLIS CO                         424910  Farm Supplies Merchant Wholesalers                          01-Jan-87             AUBURN, WA 98001      2015\n",
      " 5  SAFEWAY INC                                Corporation       SAFEWAY STORE #1965                     445110  Supermarkets and Other Grocery (except Convenience) Stores  29-Jan-03             SEATTLE, WA 98118     2015\n",
      " 6  SAFEWAY INC                                Corporation       SAFEWAY STORE #1993                     445110  Supermarkets and Other Grocery (except Convenience) Stores  27-Oct-04             SEATTLE, WA 98112     2015\n",
      " 7  SAFEWAY INC                                Corporation       SAFEWAY STORE #1550                     445110  Supermarkets and Other Grocery (except Convenience) Stores  20-May-98             SEATTLE, WA 98115     2015\n",
      " 8  SAFEWAY INC                                Corporation       SAFEWAY INC #1477                       445110  Supermarkets and Other Grocery (except Convenience) Stores  05-Sep-00             SEATTLE, WA 98107     2015\n",
      " 9  SAFEWAY INC                                Corporation       SAFEWAY STORE #219                      445110  Supermarkets and Other Grocery (except Convenience) Stores  01-Jan-87             SEATTLE, WA 98118     2015\n",
      "\n",
      "2021 License Data: \n",
      "     Business Legal Name                 Trade Name                      Ownership Type         NAICS Code  NAICS Description                                      License Start Date    Street Address             City      State    Zip         Business Phone      City Account Number          UBI    year\n",
      "--  ----------------------------------  ------------------------------  -------------------  ------------  -----------------------------------------------------  --------------------  -------------------------  --------  -------  ----------  ----------------  ---------------------  -----------  ------\n",
      " 0  ALLAH VICTORIOUS G                  ALLAH VICTORIOUS G              Sole proprietorship        448310  Jewelry Stores                                         06/01/2019            1323 69TH AVE E            TACOMA    WA       98424       253-221-5906              8368280751405  6.04397e+15    2021\n",
      " 1  BUI PHUONG                          BUI PHUONG                      Sole proprietorship        721191  Bed-and-Breakfast Inns                                 08/27/2019            2324 1ST AVE #313          SEATTLE   WA       98121       425-577-0134              8410320755821  6.045e+15      2021\n",
      " 2  COLE DANA K                         DANA KAE PHOTOGRAPHY            Sole proprietorship        541921  Photography Studios, Portrait                          01/15/2013            2904 17TH ST               EVERETT   WA       98201-2139  206-659-3298              7571590668220  6.03266e+15    2021\n",
      " 5  LYKKEN JOSEPH ALAN                  JOSEPH A LYKKEN                 Sole proprietorship        721191  Bed-and-Breakfast Inns                                 12/15/2019            519 32ND AVE E             SEATTLE   WA       98112       206-295-9883              8439890758892  6.04523e+15    2021\n",
      " 7  MERKEL JR JOEL C & REYNEVELD SARAH  MERKEL JR JOEL C                Sole proprietorship        721191  Bed-and-Breakfast Inns                                 10/01/2016            7353 16TH AVE NW           SEATTLE   WA       98117       206-719-0295              8370590751644  6.04286e+15    2021\n",
      " 8  MOTS LLC                            LOAD RUNNER                     LLC - Single Member        812990  All Other Personal Services                            10/22/2020            1012 S HENDERSON ST # B    SEATTLE   WA       98108-4768  206-293-1193              8503350765696  6.04295e+15    2021\n",
      " 9  PERKINS EASTMAN ARCHITECTS DPC      PERKINS EASTMAN ARCHITECTS DPC  Corporation                541310  Architectural Services                                 01/01/2013            115 5TH AVE                NEW YORK  NY       10003       866-411-8538              8360110750546  6.03243e+15    2021\n",
      "11  0 BLOK LLC                          0BLOK                           LLC - Single Member        541310  Architectural Services                                 07/28/2021            515 29TH AVE S             SEATTLE   WA       98144-2429  541-510-3587              8551870770776  6.04768e+15    2021\n",
      "12  003 LLC                             003 LLC                         LLC - Multi Member         561320  Temporary Help Services                                07/01/2015            1500 WESTLAKE AVE N # 212  SEATTLE   WA       98109-3008  206-347-8507              7861530698534  6.03135e+15    2021\n",
      "13  02 SPACES LLC                       02 SPACES                       LLC - Single Member        485999  All Other Transit and Ground Passenger Transportation  02/01/2019            7025 12TH AVE SW           SEATTLE   WA       98106       206-251-2772              8329900747397  6.03548e+15    2021\n"
     ]
    },
    {
     "name": "stderr",
     "output_type": "stream",
     "text": [
      "/var/folders/r2/jq0wysbs7pb0wn4ydzsf_wzm0000gn/T/ipykernel_97908/309617851.py:9: SettingWithCopyWarning: \n",
      "A value is trying to be set on a copy of a slice from a DataFrame.\n",
      "Try using .loc[row_indexer,col_indexer] = value instead\n",
      "\n",
      "See the caveats in the documentation: https://pandas.pydata.org/pandas-docs/stable/user_guide/indexing.html#returning-a-view-versus-a-copy\n",
      "  license_2012['year'] = 2012\n"
     ]
    }
   ],
   "source": [
    "# Read in data\n",
    "license_2012 = read_clean(\"data/2012_Business_License.csv\")\n",
    "license_2015 = read_clean(\"data/2015_Business_License.csv\")\n",
    "license_2021 = read_clean(\"data/2021_Business_License.csv\")\n",
    "\n",
    "# Label each dataset with their associated year\n",
    "# license_2012 = add_year(license_2012, 2012)\n",
    "# license_2012.loc[:, 'year'] = 2012\n",
    "license_2012['year'] = 2012\n",
    "license_2015['year'] = 2015\n",
    "license_2021['year'] = 2021\n",
    "\n",
    "print(f\"2012 License Data: \\n {tabulate(license_2012.head(10), headers=license_2012.columns)}\")\n",
    "print()\n",
    "print(f\"2015 License Data: \\n {tabulate(license_2015.head(10), headers=license_2015.columns)}\")\n",
    "print()\n",
    "print(f\"2021 License Data: \\n {tabulate(license_2021.head(10), headers=license_2021.columns)}\")"
   ],
   "metadata": {
    "collapsed": false,
    "pycharm": {
     "name": "#%%\n"
    }
   }
  },
  {
   "cell_type": "code",
   "execution_count": 82,
   "outputs": [
    {
     "name": "stdout",
     "output_type": "stream",
     "text": [
      "2012 NAICS Counts: \n",
      "        NAICS  Description                                                             Count\n",
      "---  -------  --------------------------------------------------------------------  -------\n",
      "762   812990  All Other Personal Services                                              4254\n",
      "470   453998  All Other Miscellaneous Store Retailers (except Tobacco Stores)          1463\n",
      "493   485310  Taxi Service                                                             1459\n",
      "726   722211  Limited-Service Restaurants                                              1374\n",
      "587   541110  Offices of Lawyers                                                       1266\n",
      "684   621399  Offices of All Other Miscellaneous Health Practitioners                  1052\n",
      " 47   236115  New Single-Family Housing Construction (except Operative Builders)        969\n",
      "630   541990  All Other Professional, Scientific, and Technical Services                933\n",
      "608   541611  Administrative Management and General Management Consulting Services      772\n",
      "612   541618  Other Management Consulting Services                                      767\n",
      "\n",
      "2015 NAICS Counts: \n",
      "        NAICS Code  NAICS Description                                                       Count\n",
      "---  ------------  --------------------------------------------------------------------  -------\n",
      "862        812990  All Other Personal Services                                              5702\n",
      "525        485310  Taxi Service                                                             4919\n",
      "801        711510  Independent Artists, Writers, and Performers                             3229\n",
      "530        485999  All Other Transit and Ground Passenger Transportation                    2783\n",
      "668        541611  Administrative Management and General Management Consulting Services     2275\n",
      "645        541110  Offices of Lawyers                                                       2264\n",
      "762        621399  Offices of All Other Miscellaneous Health Practitioners                  2117\n",
      "826        722513  Limited-Service Restaurants                                              1963\n",
      "497        453998  All Other Miscellaneous Store Retailers (except Tobacco Stores)          1912\n",
      " 50        236115  New Single-Family Housing Construction (except For-Sale Builders)        1855\n",
      "\n",
      "2021 NAICS Counts: \n",
      "        NAICS Code  NAICS Description                                                       Count\n",
      "---  ------------  --------------------------------------------------------------------  -------\n",
      "867        812990  All Other Personal Services                                              3469\n",
      "649        541110  Offices of Lawyers                                                       1833\n",
      "673        541611  Administrative Management and General Management Consulting Services     1823\n",
      "533        485999  All Other Transit and Ground Passenger Transportation                    1749\n",
      "528        485310  Taxi Service                                                             1736\n",
      " 57        236115  New Single-Family Housing Construction (except For-Sale Builders)        1534\n",
      "767        621399  Offices of All Other Miscellaneous Health Practitioners                  1479\n",
      "806        711510  Independent Artists, Writers, and Performers                             1463\n",
      "831        722513  Limited-Service Restaurants                                              1439\n",
      " 60        236118  Residential Remodelers                                                   1418\n"
     ]
    }
   ],
   "source": [
    "license_2012_counts = license_2012.groupby([\"naics_code\", \"NACISDesc\"]).size()\n",
    "license_2012_counts = license_2012_counts.reset_index(name=\"Count\")\n",
    "license_2012_counts.rename({\"NACISDesc\": \"Description\", \"naics_code\": \"NAICS\"}, axis=1, inplace=True)\n",
    "\n",
    "license_2015_counts = license_2015.groupby([\"NAICS Code\", \"NAICS Description\"]).size()\n",
    "license_2015_counts = license_2015_counts.reset_index(name=\"Count\")\n",
    "license_2015_counts.rename({\"NACISDesc\": \"Description\", \"naics_code\": \"NAICS\"}, axis=1, inplace=True)\n",
    "\n",
    "license_2021_counts = license_2021.groupby([\"NAICS Code\", \"NAICS Description\"]).size()\n",
    "license_2021_counts = license_2021_counts.reset_index(name=\"Count\")\n",
    "license_2021_counts.rename({\"NACISDesc\": \"Description\", \"naics_code\": \"NAICS\"}, axis=1, inplace=True)\n",
    "\n",
    "print(f\"2012 NAICS Counts: \\n {tabulate(license_2012_counts.sort_values('Count', ascending=False).head(10), headers=license_2012_counts.columns)}\")\n",
    "print()\n",
    "print(f\"2015 NAICS Counts: \\n {tabulate(license_2015_counts.sort_values('Count', ascending=False).head(10), headers=license_2015_counts.columns)}\")\n",
    "print()\n",
    "print(f\"2021 NAICS Counts: \\n {tabulate(license_2021_counts.sort_values('Count', ascending=False).head(10), headers=license_2021_counts.columns)}\")"
   ],
   "metadata": {
    "collapsed": false,
    "pycharm": {
     "name": "#%%\n"
    }
   }
  },
  {
   "cell_type": "code",
   "execution_count": 19,
   "outputs": [
    {
     "name": "stdout",
     "output_type": "stream",
     "text": [
      "<class 'pandas.core.series.Series'>\n"
     ]
    }
   ],
   "source": [],
   "metadata": {
    "collapsed": false,
    "pycharm": {
     "name": "#%%\n"
    }
   }
  }
 ],
 "metadata": {
  "kernelspec": {
   "display_name": "Python 3",
   "language": "python",
   "name": "python3"
  },
  "language_info": {
   "codemirror_mode": {
    "name": "ipython",
    "version": 2
   },
   "file_extension": ".py",
   "mimetype": "text/x-python",
   "name": "python",
   "nbconvert_exporter": "python",
   "pygments_lexer": "ipython2",
   "version": "2.7.6"
  }
 },
 "nbformat": 4,
 "nbformat_minor": 0
}